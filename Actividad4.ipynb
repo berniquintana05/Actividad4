{
 "cells": [
  {
   "cell_type": "code",
   "execution_count": 1,
   "metadata": {},
   "outputs": [],
   "source": [
    "import Berni as Br "
   ]
  },
  {
   "cell_type": "code",
   "execution_count": 3,
   "metadata": {},
   "outputs": [
    {
     "name": "stdout",
     "output_type": "stream",
     "text": [
      "   Unnamed: 0     id last_scraped       source  host_id host_name host_since  \\\n",
      "0           0  56229   2024-12-12  city scrape   216660     Boris 2010-08-29   \n",
      "1           1  62970   2024-12-12  city scrape   336059    Thomas 2011-01-05   \n",
      "2           2  63948   2024-12-12  city scrape   216660     Boris 2010-08-29   \n",
      "3           3  66772   2024-12-11  city scrape   216660     Boris 2010-08-29   \n",
      "4           4  69198   2024-12-11  city scrape   345886      Alda 2011-01-13   \n",
      "\n",
      "              host_location host_is_superhost host_neighbourhood  ...  \\\n",
      "0    London, United Kingdom                 f        Hammersmith  ...   \n",
      "1  Hamilton Parish, Bermuda               NaN          Mid-Beach  ...   \n",
      "2    London, United Kingdom                 f        Hammersmith  ...   \n",
      "3    London, United Kingdom                 f        Hammersmith  ...   \n",
      "4    London, United Kingdom                 f                NaN  ...   \n",
      "\n",
      "   review_scores_cleanliness review_scores_checkin  \\\n",
      "0                       4.67                  4.88   \n",
      "1                       4.60                  4.80   \n",
      "2                       4.69                  4.87   \n",
      "3                       4.76                  4.87   \n",
      "4                       4.77                  4.62   \n",
      "\n",
      "  review_scores_communication review_scores_location review_scores_value  \\\n",
      "0                        4.79                   4.92                4.71   \n",
      "1                        4.74                   4.63                4.51   \n",
      "2                        4.78                   4.91                4.60   \n",
      "3                        4.77                   4.92                4.67   \n",
      "4                        4.85                   4.62                4.23   \n",
      "\n",
      "  instant_bookable  calculated_host_listings_count  \\\n",
      "0                f                              11   \n",
      "1                t                               1   \n",
      "2                f                              11   \n",
      "3                f                              11   \n",
      "4                f                               1   \n",
      "\n",
      "   calculated_host_listings_count_entire_homes  \\\n",
      "0                                            9   \n",
      "1                                            1   \n",
      "2                                            9   \n",
      "3                                            9   \n",
      "4                                            0   \n",
      "\n",
      "   calculated_host_listings_count_private_rooms  reviews_per_month  \n",
      "0                                             1               0.84  \n",
      "1                                             0               1.05  \n",
      "2                                             1               1.06  \n",
      "3                                             1               1.10  \n",
      "4                                             1               0.09  \n",
      "\n",
      "[5 rows x 51 columns]\n"
     ]
    }
   ],
   "source": [
    "# Cargar archivo\n",
    "df = Br.charge(\"Londres_Inglaterra.xlsx\")\n",
    "\n",
    "print(df.head())"
   ]
  },
  {
   "cell_type": "code",
   "execution_count": 9,
   "metadata": {},
   "outputs": [
    {
     "name": "stdout",
     "output_type": "stream",
     "text": [
      "Valores nulos por columna:\n",
      "Unnamed: 0                                          0\n",
      "id                                                  0\n",
      "last_scraped                                        0\n",
      "source                                              0\n",
      "host_id                                             0\n",
      "host_name                                           0\n",
      "host_since                                          7\n",
      "host_location                                   22233\n",
      "host_is_superhost                                1748\n",
      "host_neighbourhood                              48827\n",
      "host_total_listings_count                           7\n",
      "host_has_profile_pic                                7\n",
      "host_identity_verified                              7\n",
      "neighbourhood                                   51680\n",
      "property_type                                       0\n",
      "room_type                                           0\n",
      "accommodates                                        0\n",
      "bathrooms                                       32400\n",
      "bedrooms                                        12350\n",
      "beds                                            32454\n",
      "price                                           32367\n",
      "minimum_nights                                      0\n",
      "maximum_nights                                      0\n",
      "minimum_minimum_nights                              2\n",
      "maximum_minimum_nights                              2\n",
      "minimum_maximum_nights                              2\n",
      "maximum_maximum_nights                              2\n",
      "minimum_nights_avg_ntm                              2\n",
      "maximum_nights_avg_ntm                              2\n",
      "has_availability                                 4464\n",
      "availability_30                                     0\n",
      "availability_60                                     0\n",
      "availability_90                                     0\n",
      "availability_365                                    0\n",
      "number_of_reviews                                   0\n",
      "number_of_reviews_ltm                               0\n",
      "number_of_reviews_l30d                              0\n",
      "first_review                                    24584\n",
      "last_review                                     24584\n",
      "review_scores_rating                            24584\n",
      "review_scores_accuracy                          24600\n",
      "review_scores_cleanliness                       24593\n",
      "review_scores_checkin                           24629\n",
      "review_scores_communication                     24606\n",
      "review_scores_location                          24631\n",
      "review_scores_value                             24631\n",
      "instant_bookable                                    0\n",
      "calculated_host_listings_count                      0\n",
      "calculated_host_listings_count_entire_homes         0\n",
      "calculated_host_listings_count_private_rooms        0\n",
      "reviews_per_month                               24584\n",
      "dtype: int64\n",
      "\n",
      "Total de valores nulos en el DataFrame: 484589\n"
     ]
    }
   ],
   "source": [
    "nulos_por_columna, nulos_totales = Br.olivos(df)\n",
    "print(\"Valores nulos por columna:\")\n",
    "print(nulos_por_columna)\n",
    "print(\"\\nTotal de valores nulos en el DataFrame:\", nulos_totales)"
   ]
  },
  {
   "cell_type": "code",
   "execution_count": null,
   "metadata": {},
   "outputs": [],
   "source": [
    "#Sustitución por string\n",
    "df['host_name'] = Br.spaguetti(df['host_name'], \"Desconocido\")"
   ]
  },
  {
   "cell_type": "code",
   "execution_count": 10,
   "metadata": {},
   "outputs": [],
   "source": [
    "#Sustitución por mediana\n",
    "df['host_since'] = Br.pizza(df['host_since'])"
   ]
  },
  {
   "cell_type": "code",
   "execution_count": 11,
   "metadata": {},
   "outputs": [],
   "source": [
    "#Sustitución por string\n",
    "df['host_location'] = Br.spaguetti(df['host_location'], \"Desconocido\")"
   ]
  },
  {
   "cell_type": "code",
   "execution_count": 12,
   "metadata": {},
   "outputs": [
    {
     "name": "stderr",
     "output_type": "stream",
     "text": [
      "/Users/bernardoquintanalopez/Desktop/4/Berni.py:25: FutureWarning: Series.fillna with 'method' is deprecated and will raise in a future version. Use obj.ffill() or obj.bfill() instead.\n",
      "  return df.fillna(method='ffill')\n"
     ]
    }
   ],
   "source": [
    "#Sustitución por ffill\n",
    "df['host_is_superhost'] = Br.fusili(df['host_is_superhost'])"
   ]
  },
  {
   "cell_type": "code",
   "execution_count": 26,
   "metadata": {},
   "outputs": [],
   "source": [
    "#Sustitución por string\n",
    "df['host_neighbourhood'] = Br.spaguetti(df['host_neighbourhood'], \"Desconocido\")\n",
    "df['neighbourhood'] = Br.spaguetti(df['neighbourhood'], \"Desconocido\")"
   ]
  },
  {
   "cell_type": "code",
   "execution_count": 14,
   "metadata": {},
   "outputs": [],
   "source": [
    "#Sustitución por ffill\n",
    "df['host_total_listings_count'] = Br.fusili(df['host_total_listings_count'])"
   ]
  },
  {
   "cell_type": "code",
   "execution_count": 15,
   "metadata": {},
   "outputs": [],
   "source": [
    "#Sustitución por string\n",
    "df['host_has_profile_pic'] = Br.spaguetti(df['host_has_profile_pic'], \"Desconocido\")"
   ]
  },
  {
   "cell_type": "code",
   "execution_count": 16,
   "metadata": {},
   "outputs": [],
   "source": [
    "#Sustitución por string\n",
    "df['host_identity_verified'] = Br.spaguetti(df['host_identity_verified'], \"Desconocido\")"
   ]
  },
  {
   "cell_type": "code",
   "execution_count": 17,
   "metadata": {},
   "outputs": [],
   "source": [
    "#Sustitución por mediana\n",
    "df['bathrooms'] = Br.pizza(df['bathrooms'])"
   ]
  },
  {
   "cell_type": "code",
   "execution_count": 18,
   "metadata": {},
   "outputs": [],
   "source": [
    "#Sustitución por mediana\n",
    "df['bedrooms'] = Br.pizza(df['bedrooms'])"
   ]
  },
  {
   "cell_type": "code",
   "execution_count": 19,
   "metadata": {},
   "outputs": [],
   "source": [
    "#Sustitución por mediana\n",
    "df['beds'] = Br.pizza(df['beds'])"
   ]
  },
  {
   "cell_type": "code",
   "execution_count": 20,
   "metadata": {},
   "outputs": [],
   "source": [
    "#Sustitución por promedio\n",
    "df['price'] = Br.pomodoro(df['price'])"
   ]
  },
  {
   "cell_type": "code",
   "execution_count": 21,
   "metadata": {},
   "outputs": [],
   "source": [
    "#Sustitución por mediana\n",
    "df['minimum_minimum_nights'] = Br.pizza(df['minimum_minimum_nights'])\n",
    "df['maximum_minimum_nights'] = Br.pizza(df['maximum_minimum_nights'])\n",
    "df['minimum_maximum_nights'] = Br.pizza(df['minimum_maximum_nights'])\n",
    "df['maximum_maximum_nights'] = Br.pizza(df['maximum_maximum_nights'])\n",
    "df['minimum_nights_avg_ntm'] = Br.pizza(df['minimum_nights_avg_ntm'])\n",
    "df['maximum_nights_avg_ntm'] = Br.pizza(df['maximum_nights_avg_ntm'])\n"
   ]
  },
  {
   "cell_type": "code",
   "execution_count": 22,
   "metadata": {},
   "outputs": [],
   "source": [
    "#Sustitución por string\n",
    "df['has_availability'] = Br.spaguetti(df['has_availability'], \"Desconocido\")"
   ]
  },
  {
   "cell_type": "code",
   "execution_count": 28,
   "metadata": {},
   "outputs": [],
   "source": [
    "#Sustitución por string\n",
    "df['first_review'] = Br.spaguetti(df['first_review'], \"Desconocido\")\n",
    "df['last_review'] = Br.spaguetti(df['last_review'], \"Desconocido\")"
   ]
  },
  {
   "cell_type": "code",
   "execution_count": 24,
   "metadata": {},
   "outputs": [],
   "source": [
    "#Sustitución por promedio\n",
    "df['review_scores_rating'] = Br.pomodoro(df['review_scores_rating'])\n",
    "df['review_scores_accuracy'] = Br.pomodoro(df['review_scores_accuracy'])\n",
    "df['review_scores_cleanliness'] = Br.pomodoro(df['review_scores_cleanliness'])\n",
    "df['review_scores_checkin'] = Br.pomodoro(df['review_scores_checkin'])\n",
    "df['review_scores_communication'] = Br.pomodoro(df['review_scores_communication'])\n",
    "df['review_scores_location'] = Br.pomodoro(df['review_scores_location'])\n",
    "df['review_scores_value'] = Br.pomodoro(df['review_scores_value'])\n",
    "df['reviews_per_month'] = Br.pomodoro(df['reviews_per_month'])"
   ]
  },
  {
   "cell_type": "code",
   "execution_count": 29,
   "metadata": {},
   "outputs": [
    {
     "name": "stdout",
     "output_type": "stream",
     "text": [
      "Valores nulos por columna:\n",
      "Unnamed: 0                                      0\n",
      "id                                              0\n",
      "last_scraped                                    0\n",
      "source                                          0\n",
      "host_id                                         0\n",
      "host_name                                       0\n",
      "host_since                                      0\n",
      "host_location                                   0\n",
      "host_is_superhost                               0\n",
      "host_neighbourhood                              0\n",
      "host_total_listings_count                       0\n",
      "host_has_profile_pic                            0\n",
      "host_identity_verified                          0\n",
      "neighbourhood                                   0\n",
      "property_type                                   0\n",
      "room_type                                       0\n",
      "accommodates                                    0\n",
      "bathrooms                                       0\n",
      "bedrooms                                        0\n",
      "beds                                            0\n",
      "price                                           0\n",
      "minimum_nights                                  0\n",
      "maximum_nights                                  0\n",
      "minimum_minimum_nights                          0\n",
      "maximum_minimum_nights                          0\n",
      "minimum_maximum_nights                          0\n",
      "maximum_maximum_nights                          0\n",
      "minimum_nights_avg_ntm                          0\n",
      "maximum_nights_avg_ntm                          0\n",
      "has_availability                                0\n",
      "availability_30                                 0\n",
      "availability_60                                 0\n",
      "availability_90                                 0\n",
      "availability_365                                0\n",
      "number_of_reviews                               0\n",
      "number_of_reviews_ltm                           0\n",
      "number_of_reviews_l30d                          0\n",
      "first_review                                    0\n",
      "last_review                                     0\n",
      "review_scores_rating                            0\n",
      "review_scores_accuracy                          0\n",
      "review_scores_cleanliness                       0\n",
      "review_scores_checkin                           0\n",
      "review_scores_communication                     0\n",
      "review_scores_location                          0\n",
      "review_scores_value                             0\n",
      "instant_bookable                                0\n",
      "calculated_host_listings_count                  0\n",
      "calculated_host_listings_count_entire_homes     0\n",
      "calculated_host_listings_count_private_rooms    0\n",
      "reviews_per_month                               0\n",
      "dtype: int64\n",
      "\n",
      "Total de valores nulos en el DataFrame: 0\n"
     ]
    }
   ],
   "source": [
    "nulos_por_columna, nulos_totales = Br.olivos(df)\n",
    "print(\"Valores nulos por columna:\")\n",
    "print(nulos_por_columna)\n",
    "print(\"\\nTotal de valores nulos en el DataFrame:\", nulos_totales)"
   ]
  }
 ],
 "metadata": {
  "kernelspec": {
   "display_name": "Python 3",
   "language": "python",
   "name": "python3"
  },
  "language_info": {
   "codemirror_mode": {
    "name": "ipython",
    "version": 3
   },
   "file_extension": ".py",
   "mimetype": "text/x-python",
   "name": "python",
   "nbconvert_exporter": "python",
   "pygments_lexer": "ipython3",
   "version": "3.13.2"
  }
 },
 "nbformat": 4,
 "nbformat_minor": 2
}
